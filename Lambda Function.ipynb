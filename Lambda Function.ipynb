{
 "cells": [
  {
   "cell_type": "markdown",
   "id": "064accfc",
   "metadata": {},
   "source": [
    "#### lamda function"
   ]
  },
  {
   "cell_type": "code",
   "execution_count": 1,
   "id": "9f8b10d4",
   "metadata": {},
   "outputs": [
    {
     "data": {
      "text/plain": [
       "30"
      ]
     },
     "execution_count": 1,
     "metadata": {},
     "output_type": "execute_result"
    }
   ],
   "source": [
    "# ex01\n",
    "area = lambda x,y : x*y\n",
    "area(5,6)\n",
    "\n"
   ]
  },
  {
   "cell_type": "code",
   "execution_count": 4,
   "id": "3855aa54",
   "metadata": {},
   "outputs": [
    {
     "name": "stdout",
     "output_type": "stream",
     "text": [
      "500\n"
     ]
    }
   ],
   "source": [
    "# ex02\n",
    "\n",
    "def apple(unit_price):\n",
    "    return lambda no_of_apples : no_of_apples * unit_price\n",
    "\n",
    "# function calling\n",
    "p = apple(50)\n",
    "print(p(10))"
   ]
  },
  {
   "cell_type": "code",
   "execution_count": 25,
   "id": "31df365b",
   "metadata": {},
   "outputs": [],
   "source": [
    "from nltk.tokenize import word_tokenize"
   ]
  },
  {
   "cell_type": "code",
   "execution_count": 36,
   "id": "da08592f",
   "metadata": {},
   "outputs": [],
   "source": [
    "documents =[\n",
    "    \"This is document 1. It contains some text for testing.\",\n",
    "    \"Document 2 has different content for testing purposes.\",\n",
    "    \"The third document is here with unique words.\"\n",
    "]\n",
    "\n",
    "query = \"This is a test query for information retrieval\""
   ]
  },
  {
   "cell_type": "code",
   "execution_count": 37,
   "id": "e205f59b",
   "metadata": {},
   "outputs": [],
   "source": [
    "tokenized_docs = [word_tokenize(doc) for doc in documents]\n",
    "tokenized_query = word_tokenize(query)"
   ]
  },
  {
   "cell_type": "code",
   "execution_count": 43,
   "id": "b3bb76f2",
   "metadata": {},
   "outputs": [
    {
     "name": "stdout",
     "output_type": "stream",
     "text": [
      "  (0, 11)\t0.28574186296253085\n",
      "  (0, 4)\t0.28574186296253085\n",
      "  (0, 12)\t0.3757162113174268\n",
      "  (0, 10)\t0.3757162113174268\n",
      "  (0, 0)\t0.3757162113174268\n",
      "  (0, 8)\t0.3757162113174268\n",
      "  (0, 3)\t0.221904046872743\n",
      "  (0, 7)\t0.28574186296253085\n",
      "  (0, 15)\t0.3757162113174268\n",
      "  (1, 9)\t0.42618350336974425\n",
      "  (1, 1)\t0.42618350336974425\n",
      "  (1, 2)\t0.42618350336974425\n",
      "  (1, 5)\t0.42618350336974425\n",
      "  (1, 11)\t0.3241235393856436\n",
      "  (1, 4)\t0.3241235393856436\n",
      "  (1, 3)\t0.2517108425440014\n",
      "  (2, 18)\t0.3799446164315741\n",
      "  (2, 16)\t0.3799446164315741\n",
      "  (2, 17)\t0.3799446164315741\n",
      "  (2, 6)\t0.3799446164315741\n",
      "  (2, 14)\t0.3799446164315741\n",
      "  (2, 13)\t0.3799446164315741\n",
      "  (2, 3)\t0.22440141104916914\n",
      "  (2, 7)\t0.28895767404089806\n"
     ]
    }
   ],
   "source": [
    "from sklearn.feature_extraction.text import TfidfVectorizer\n",
    "v = TfidfVectorizer()\n",
    "\n",
    "tfidf_matrix = v.fit_transform([\" \".join(d) for d in tokenized_docs])\n",
    "tfidf_query = v.transform([' '.join(tokenized_query)])\n",
    "\n",
    "print(tfidf_matrix)"
   ]
  }
 ],
 "metadata": {
  "kernelspec": {
   "display_name": "Python 3 (ipykernel)",
   "language": "python",
   "name": "python3"
  },
  "language_info": {
   "codemirror_mode": {
    "name": "ipython",
    "version": 3
   },
   "file_extension": ".py",
   "mimetype": "text/x-python",
   "name": "python",
   "nbconvert_exporter": "python",
   "pygments_lexer": "ipython3",
   "version": "3.11.4"
  }
 },
 "nbformat": 4,
 "nbformat_minor": 5
}
