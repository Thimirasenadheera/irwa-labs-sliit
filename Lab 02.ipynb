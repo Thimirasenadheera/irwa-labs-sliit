{
 "cells": [
  {
   "cell_type": "code",
   "execution_count": 9,
   "id": "e4787b73",
   "metadata": {},
   "outputs": [
    {
     "name": "stdout",
     "output_type": "stream",
     "text": [
      "['Doc1.txt', 'Doc2.txt', 'Doc3.txt', 'Doc4.txt']\n"
     ]
    }
   ],
   "source": [
    "import os\n",
    "directory = os.getcwd()+'\\inverted'\n",
    "\n",
    "files = os.listdir(directory)\n",
    "print(files)"
   ]
  },
  {
   "cell_type": "code",
   "execution_count": 18,
   "id": "521cbe45",
   "metadata": {},
   "outputs": [],
   "source": [
    "def invertedIndex():\n",
    "\n",
    "    dictionary = {}\n",
    "\n",
    "    for doc in files:\n",
    "        with open(os.getcwd()+'/inverted/'+doc ,'r' ) as f:\n",
    "            words = f.read().lower().split()\n",
    "\n",
    "            for w in words:\n",
    "                if w not in dictionary:\n",
    "                    dictionary[w] = [doc]\n",
    "                else:\n",
    "                    dictionary[w].append(doc)\n",
    "\n",
    "\n",
    "    return dictionary"
   ]
  },
  {
   "cell_type": "code",
   "execution_count": 20,
   "id": "c4c8ab9d",
   "metadata": {},
   "outputs": [
    {
     "data": {
      "text/plain": [
       "{'breakthrough': ['Doc1.txt'],\n",
       " 'drug': ['Doc1.txt', 'Doc2.txt'],\n",
       " 'for': ['Doc1.txt', 'Doc3.txt', 'Doc4.txt'],\n",
       " 'schizophrenia': ['Doc1.txt', 'Doc2.txt', 'Doc3.txt', 'Doc4.txt'],\n",
       " 'new': ['Doc2.txt', 'Doc3.txt', 'Doc4.txt'],\n",
       " 'approach': ['Doc3.txt'],\n",
       " 'treatment': ['Doc3.txt'],\n",
       " 'of': ['Doc3.txt'],\n",
       " 'hopes': ['Doc4.txt'],\n",
       " 'patients': ['Doc4.txt']}"
      ]
     },
     "execution_count": 20,
     "metadata": {},
     "output_type": "execute_result"
    }
   ],
   "source": [
    "invertedIndex()"
   ]
  },
  {
   "cell_type": "code",
   "execution_count": 30,
   "id": "98a34b7f",
   "metadata": {},
   "outputs": [
    {
     "name": "stdout",
     "output_type": "stream",
     "text": [
      "['Pythoners', 'are', 'very', 'intelligent', 'and', 'work', 'very', 'pythonly', 'and', 'now', 'they', 'are', 'pythoning', 'their', 'way', 'to', 'success', '.']\n"
     ]
    }
   ],
   "source": [
    "import nltk\n",
    "from nltk.corpus import stopwords\n",
    "from nltk.tokenize import word_tokenize\n",
    "\n",
    "sw = stopwords.words(\"english\")\n",
    "\n",
    "quote = \"Pythoners are very intelligent and work very pythonly and now they are pythoning their way to success.\"\n",
    "\n",
    "words = word_tokenize(quote)\n",
    "print(words)\n"
   ]
  },
  {
   "cell_type": "markdown",
   "id": "737b5ac9",
   "metadata": {},
   "source": [
    "### Positional Index"
   ]
  },
  {
   "cell_type": "code",
   "execution_count": 64,
   "id": "3d8d8ce7",
   "metadata": {},
   "outputs": [
    {
     "name": "stdout",
     "output_type": "stream",
     "text": [
      "{'civil': {1: [0, 22]}, 'complex': {1: [1]}, 'fascin': {1: [2]}, 'concept': {1: [3]}, 'evolv': {1: [4]}, 'thousand': {1: [5]}, 'year': {1: [6]}, '.': {1: [7, 18, 31]}, 'encompass': {1: [8]}, 'collect': {1: [9]}, 'achiev': {1: [10]}, ',': {1: [11, 13, 21, 25]}, 'cultur': {1: [12]}, 'societ': {1: [14]}, 'structur': {1: [15]}, 'human': {1: [16]}, 'be': {1: [17]}, 'throughout': {1: [19]}, 'histori': {1: [20]}, 'risen': {1: [23]}, 'fallen': {1: [24]}, 'leav': {1: [26]}, 'mark': {1: [27]}, 'world': {1: [28]}, 'variou': {1: [29]}, 'way': {1: [30]}}\n",
      "{'civil': {1: [0, 22], 2: [2, 36]}, 'complex': {1: [1], 2: [34]}, 'fascin': {1: [2]}, 'concept': {1: [3]}, 'evolv': {1: [4]}, 'thousand': {1: [5]}, 'year': {1: [6]}, '.': {1: [7, 18, 31], 2: [12, 24, 41]}, 'encompass': {1: [8]}, 'collect': {1: [9]}, 'achiev': {1: [10]}, ',': {1: [11, 13, 21, 25], 2: [18, 21, 27, 32]}, 'cultur': {1: [12]}, 'societ': {1: [14]}, 'structur': {1: [15]}, 'human': {1: [16]}, 'be': {1: [17]}, 'throughout': {1: [19]}, 'histori': {1: [20]}, 'risen': {1: [23]}, 'fallen': {1: [24]}, 'leav': {1: [26]}, 'mark': {1: [27]}, 'world': {1: [28]}, 'variou': {1: [29]}, 'way': {1: [30]}, 'earliest': {2: [0, 29]}, 'known': {2: [1]}, 'emerg': {2: [3]}, 'region': {2: [4]}, 'like': {2: [5]}, 'mesopotamia': {2: [6]}, 'indu': {2: [7]}, 'valley': {2: [8]}, 'around': {2: [9]}, '3500': {2: [10]}, 'bce': {2: [11]}, 'ancient': {2: [13]}, 'societi': {2: [14, 40]}, 'laid': {2: [15]}, 'foundat': {2: [16]}, 'agricultur': {2: [17]}, 'write': {2: [19]}, 'system': {2: [20]}, 'organ': {2: [22]}, 'govern': {2: [23]}, 'code': {2: [25, 31]}, 'hammurabi': {2: [26]}, 'one': {2: [28]}, 'legal': {2: [30]}, 'reflect': {2: [33]}, 'earli': {2: [35]}, 'effort': {2: [37]}, 'creat': {2: [38]}, 'order': {2: [39]}}\n",
      "{'civil': {1: [0, 22], 2: [2, 36], 3: [2, 12]}, 'complex': {1: [1], 2: [34]}, 'fascin': {1: [2]}, 'concept': {1: [3]}, 'evolv': {1: [4]}, 'thousand': {1: [5]}, 'year': {1: [6], 3: [15]}, '.': {1: [7, 18, 31], 2: [12, 24, 41], 3: [6, 16, 28, 44]}, 'encompass': {1: [8]}, 'collect': {1: [9]}, 'achiev': {1: [10], 3: [27]}, ',': {1: [11, 13, 21, 25], 2: [18, 21, 27, 32], 3: [11, 33, 39]}, 'cultur': {1: [12]}, 'societ': {1: [14]}, 'structur': {1: [15], 3: [19]}, 'human': {1: [16]}, 'be': {1: [17]}, 'throughout': {1: [19]}, 'histori': {1: [20], 3: [3]}, 'risen': {1: [23]}, 'fallen': {1: [24]}, 'leav': {1: [26]}, 'mark': {1: [27]}, 'world': {1: [28]}, 'variou': {1: [29]}, 'way': {1: [30]}, 'earliest': {2: [0, 29]}, 'known': {2: [1]}, 'emerg': {2: [3]}, 'region': {2: [4]}, 'like': {2: [5], 3: [20]}, 'mesopotamia': {2: [6]}, 'indu': {2: [7]}, 'valley': {2: [8]}, 'around': {2: [9]}, '3500': {2: [10]}, 'bce': {2: [11]}, 'ancient': {2: [13], 3: [4, 29]}, 'societi': {2: [14, 40]}, 'laid': {2: [15]}, 'foundat': {2: [16]}, 'agricultur': {2: [17]}, 'write': {2: [19], 3: [24]}, 'system': {2: [20]}, 'organ': {2: [22]}, 'govern': {2: [23]}, 'code': {2: [25, 31]}, 'hammurabi': {2: [26]}, 'one': {2: [28], 3: [0]}, 'legal': {2: [30]}, 'reflect': {2: [33]}, 'earli': {2: [35]}, 'effort': {2: [37]}, 'creat': {2: [38]}, 'order': {2: [39]}, 'renown': {3: [1]}, 'egypt': {3: [5, 30]}, 'situat': {3: [7]}, 'along': {3: [8]}, 'nile': {3: [9]}, 'river': {3: [10]}, 'thrive': {3: [13]}, '3,000': {3: [14]}, 'construct': {3: [17]}, 'monument': {3: [18]}, 'pyramid': {3: [21]}, 'develop': {3: [22]}, 'hieroglyph': {3: [23]}, 'testament': {3: [25]}, 'remark': {3: [26]}, \"'s\": {3: [31]}, 'religion': {3: [32]}, 'pantheon': {3: [34]}, 'god': {3: [35]}, 'elabor': {3: [36]}, 'burial': {3: [37]}, 'ritual': {3: [38]}, 'captiv': {3: [40]}, 'scholar': {3: [41]}, 'adventur': {3: [42]}, 'centuri': {3: [43]}}\n",
      "{'civil': {1: [0, 22], 2: [2, 36], 3: [2, 12], 4: [1]}, 'complex': {1: [1], 2: [34]}, 'fascin': {1: [2]}, 'concept': {1: [3]}, 'evolv': {1: [4]}, 'thousand': {1: [5]}, 'year': {1: [6], 3: [15]}, '.': {1: [7, 18, 31], 2: [12, 24, 41], 3: [6, 16, 28, 44], 4: [12, 31, 43]}, 'encompass': {1: [8]}, 'collect': {1: [9]}, 'achiev': {1: [10], 3: [27]}, ',': {1: [11, 13, 21, 25], 2: [18, 21, 27, 32], 3: [11, 33, 39], 4: [2, 6, 22, 38, 40]}, 'cultur': {1: [12], 4: [4]}, 'societ': {1: [14]}, 'structur': {1: [15], 3: [19]}, 'human': {1: [16]}, 'be': {1: [17]}, 'throughout': {1: [19]}, 'histori': {1: [20], 3: [3]}, 'risen': {1: [23]}, 'fallen': {1: [24]}, 'leav': {1: [26]}, 'mark': {1: [27]}, 'world': {1: [28]}, 'variou': {1: [29]}, 'way': {1: [30]}, 'earliest': {2: [0, 29]}, 'known': {2: [1]}, 'emerg': {2: [3]}, 'region': {2: [4]}, 'like': {2: [5], 3: [20], 4: [15]}, 'mesopotamia': {2: [6]}, 'indu': {2: [7]}, 'valley': {2: [8]}, 'around': {2: [9]}, '3500': {2: [10]}, 'bce': {2: [11]}, 'ancient': {2: [13], 3: [4, 29]}, 'societi': {2: [14, 40]}, 'laid': {2: [15], 4: [18]}, 'foundat': {2: [16]}, 'agricultur': {2: [17]}, 'write': {2: [19], 3: [24]}, 'system': {2: [20], 4: [42]}, 'organ': {2: [22]}, 'govern': {2: [23], 4: [41]}, 'code': {2: [25, 31]}, 'hammurabi': {2: [26]}, 'one': {2: [28], 3: [0]}, 'legal': {2: [30]}, 'reflect': {2: [33]}, 'earli': {2: [35]}, 'effort': {2: [37]}, 'creat': {2: [38]}, 'order': {2: [39]}, 'renown': {3: [1]}, 'egypt': {3: [5, 30]}, 'situat': {3: [7]}, 'along': {3: [8]}, 'nile': {3: [9]}, 'river': {3: [10]}, 'thrive': {3: [13]}, '3,000': {3: [14]}, 'construct': {3: [17]}, 'monument': {3: [18]}, 'pyramid': {3: [21]}, 'develop': {3: [22]}, 'hieroglyph': {3: [23]}, 'testament': {3: [25]}, 'remark': {3: [26]}, \"'s\": {3: [31]}, 'religion': {3: [32]}, 'pantheon': {3: [34]}, 'god': {3: [35]}, 'elabor': {3: [36]}, 'burial': {3: [37]}, 'ritual': {3: [38]}, 'captiv': {3: [40]}, 'scholar': {3: [41]}, 'adventur': {3: [42]}, 'centuri': {3: [43]}, 'greco-roman': {4: [0]}, 'rich': {4: [3]}, 'heritag': {4: [5]}, 'greatli': {4: [7]}, 'influenc': {4: [8]}, 'western': {4: [9, 20]}, 'thought': {4: [10]}, 'art': {4: [11]}, 'greek': {4: [13]}, 'philosoph': {4: [14]}, 'aristotl': {4: [16]}, 'plato': {4: [17]}, 'groundwork': {4: [19]}, 'philosophi': {4: [21]}, 'roman': {4: [23, 33]}, 'engin': {4: [24]}, 'marvel': {4: [25]}, 'aqueduct': {4: [26]}, 'road': {4: [27]}, 'showcas': {4: [28]}, 'masteri': {4: [29]}, 'infrastructur': {4: [30]}, 'legaci': {4: [32]}, 'empir': {4: [34]}, 'endur': {4: [35]}, 'contribut': {4: [36]}, 'law': {4: [37]}, 'languag': {4: [39]}}\n",
      "{'civil': {1: [0, 22], 2: [2, 36], 3: [2, 12], 4: [1], 5: [3, 13, 37]}, 'complex': {1: [1], 2: [34], 5: [41]}, 'fascin': {1: [2]}, 'concept': {1: [3]}, 'evolv': {1: [4]}, 'thousand': {1: [5]}, 'year': {1: [6], 3: [15]}, '.': {1: [7, 18, 31], 2: [12, 24, 41], 3: [6, 16, 28, 44], 4: [12, 31, 43], 5: [11, 33, 49]}, 'encompass': {1: [8]}, 'collect': {1: [9], 5: [47]}, 'achiev': {1: [10], 3: [27]}, ',': {1: [11, 13, 21, 25], 2: [18, 21, 27, 32], 3: [11, 33, 39], 4: [2, 6, 22, 38, 40], 5: [1, 7, 9, 19, 21, 23]}, 'cultur': {1: [12], 4: [4]}, 'societ': {1: [14]}, 'structur': {1: [15], 3: [19]}, 'human': {1: [16], 5: [5, 42]}, 'be': {1: [17]}, 'throughout': {1: [19]}, 'histori': {1: [20], 3: [3], 5: [28]}, 'risen': {1: [23]}, 'fallen': {1: [24]}, 'leav': {1: [26]}, 'mark': {1: [27], 5: [27]}, 'world': {1: [28], 5: [31]}, 'variou': {1: [29]}, 'way': {1: [30]}, 'earliest': {2: [0, 29], 5: [12]}, 'known': {2: [1]}, 'emerg': {2: [3]}, 'region': {2: [4]}, 'like': {2: [5], 3: [20], 4: [15]}, 'mesopotamia': {2: [6], 5: [14]}, 'indu': {2: [7]}, 'valley': {2: [8]}, 'around': {2: [9]}, '3500': {2: [10]}, 'bce': {2: [11]}, 'ancient': {2: [13], 3: [4, 29]}, 'societi': {2: [14, 40], 5: [24, 43]}, 'laid': {2: [15], 4: [18]}, 'foundat': {2: [16]}, 'agricultur': {2: [17]}, 'write': {2: [19], 3: [24]}, 'system': {2: [20], 4: [42]}, 'organ': {2: [22]}, 'govern': {2: [23], 4: [41]}, 'code': {2: [25, 31]}, 'hammurabi': {2: [26]}, 'one': {2: [28], 3: [0]}, 'legal': {2: [30]}, 'reflect': {2: [33]}, 'earli': {2: [35]}, 'effort': {2: [37]}, 'creat': {2: [38]}, 'order': {2: [39]}, 'renown': {3: [1]}, 'egypt': {3: [5, 30], 5: [15]}, 'situat': {3: [7]}, 'along': {3: [8]}, 'nile': {3: [9]}, 'river': {3: [10]}, 'thrive': {3: [13]}, '3,000': {3: [14]}, 'construct': {3: [17]}, 'monument': {3: [18]}, 'pyramid': {3: [21]}, 'develop': {3: [22]}, 'hieroglyph': {3: [23]}, 'testament': {3: [25]}, 'remark': {3: [26]}, \"'s\": {3: [31]}, 'religion': {3: [32]}, 'pantheon': {3: [34]}, 'god': {3: [35]}, 'elabor': {3: [36]}, 'burial': {3: [37]}, 'ritual': {3: [38]}, 'captiv': {3: [40]}, 'scholar': {3: [41]}, 'adventur': {3: [42]}, 'centuri': {3: [43]}, 'greco-roman': {4: [0]}, 'rich': {4: [3]}, 'heritag': {4: [5]}, 'greatli': {4: [7]}, 'influenc': {4: [8], 5: [30]}, 'western': {4: [9, 20]}, 'thought': {4: [10]}, 'art': {4: [11]}, 'greek': {4: [13]}, 'philosoph': {4: [14]}, 'aristotl': {4: [16]}, 'plato': {4: [17]}, 'groundwork': {4: [19]}, 'philosophi': {4: [21]}, 'roman': {4: [23, 33]}, 'engin': {4: [24]}, 'marvel': {4: [25]}, 'aqueduct': {4: [26]}, 'road': {4: [27]}, 'showcas': {4: [28]}, 'masteri': {4: [29]}, 'infrastructur': {4: [30]}, 'legaci': {4: [32]}, 'empir': {4: [34]}, 'endur': {4: [35]}, 'contribut': {4: [36]}, 'law': {4: [37]}, 'languag': {4: [39]}, 'conclus': {5: [0]}, 'stori': {5: [2]}, 'tale': {5: [4]}, 'ingenu': {5: [6]}, 'creativ': {5: [8]}, 'resili': {5: [10]}, 'profound': {5: [16]}, 'impact': {5: [17]}, 'greec': {5: [18]}, 'rome': {5: [20]}, 'china': {5: [22]}, 'left': {5: [25]}, 'indel': {5: [26]}, 'continu': {5: [29]}, 'today': {5: [32]}, 'understand': {5: [34]}, 'rise': {5: [35]}, 'fall': {5: [36]}, 'offer': {5: [38]}, 'valuabl': {5: [39]}, 'insight': {5: [40]}, 'challeng': {5: [44]}, 'face': {5: [45]}, 'shape': {5: [46]}, 'futur': {5: [48]}}\n"
     ]
    }
   ],
   "source": [
    "import os\n",
    "import re\n",
    "from nltk.tokenize import word_tokenize\n",
    "from nltk.corpus import stopwords\n",
    "from nltk.stem import PorterStemmer\n",
    "\n",
    "original_dict = {}\n",
    "\n",
    "for doc_no in range(1,6):\n",
    "    with open(str(os.getcwd()+'/positional03/doc') + str(doc_no) + \".txt\" , \"r\") as f:\n",
    "        s = f.read().lower().replace(\"/n\",\" \")\n",
    "#         print(\"Document\"  + str(doc_no) + \"------\" , s)\\\n",
    "\n",
    "        words = word_tokenize(s)\n",
    "        \n",
    "        sw = stopwords.words(\"english\")\n",
    "        \n",
    "        tokenized = [w for w in words if w not in sw]\n",
    "        \n",
    "        stemmed_words = []\n",
    "        stemmer = PorterStemmer()\n",
    "        for t in tokenized:\n",
    "            stemmed_words.append(stemmer.stem(t))\n",
    "            \n",
    "            \n",
    "        #positional index\n",
    "        \n",
    "        temp_dict = {}\n",
    "        a = 0\n",
    "        for x in stemmed_words:\n",
    "            key = x\n",
    "            temp_dict.setdefault(key , [])\n",
    "            temp_dict[key].append(a)\n",
    "            a+=1\n",
    "       \n",
    "                \n",
    "        for x in temp_dict:\n",
    "            if original_dict.get(x):\n",
    "                original_dict[x][doc_no] = temp_dict.get(x)\n",
    "            else:\n",
    "                key = x\n",
    "                original_dict.setdefault(key , {})\n",
    "                \n",
    "                original_dict[x][doc_no] = temp_dict.get(x)\n",
    "        print(original_dict)"
   ]
  },
  {
   "cell_type": "code",
   "execution_count": null,
   "id": "8ae4c95f",
   "metadata": {},
   "outputs": [],
   "source": []
  }
 ],
 "metadata": {
  "kernelspec": {
   "display_name": "Python 3 (ipykernel)",
   "language": "python",
   "name": "python3"
  },
  "language_info": {
   "codemirror_mode": {
    "name": "ipython",
    "version": 3
   },
   "file_extension": ".py",
   "mimetype": "text/x-python",
   "name": "python",
   "nbconvert_exporter": "python",
   "pygments_lexer": "ipython3",
   "version": "3.11.4"
  }
 },
 "nbformat": 4,
 "nbformat_minor": 5
}
