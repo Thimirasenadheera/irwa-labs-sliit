{
 "cells": [
  {
   "cell_type": "code",
   "execution_count": 3,
   "id": "864bc404",
   "metadata": {},
   "outputs": [
    {
     "name": "stdout",
     "output_type": "stream",
     "text": [
      "[3, 5, 9]\n"
     ]
    }
   ],
   "source": [
    "def merge_posting_lists(list1, list2):\n",
    "    merged_list = []\n",
    "    i = 0\n",
    "    j = 0\n",
    "\n",
    "    while i < len(list1) and j < len(list2):\n",
    "        if list1[i] == list2[j]:\n",
    "            merged_list.append(list1[i])\n",
    "            i += 1\n",
    "            j += 1\n",
    "        elif list1[i] < list2[j]:\n",
    "            i += 1\n",
    "        else:\n",
    "            j += 1\n",
    "\n",
    "    return merged_list\n",
    "\n",
    "# Example usage:\n",
    "list1 = [1, 3, 5, 7, 9]\n",
    "list2 = [3, 5, 6, 8, 9]\n",
    "merged = merge_posting_lists(list1, list2)\n",
    "print(merged)  # Output: [3, 5, 9]\n"
   ]
  },
  {
   "cell_type": "markdown",
   "id": "20eb14c7",
   "metadata": {},
   "source": [
    "#### Skip Pointer"
   ]
  },
  {
   "cell_type": "code",
   "execution_count": 8,
   "id": "14a600cd",
   "metadata": {},
   "outputs": [
    {
     "name": "stdout",
     "output_type": "stream",
     "text": [
      "[3, 5, 9]\n"
     ]
    }
   ],
   "source": [
    "def merge_with_skip_pointers(list1, list2, skip_factor):\n",
    "    merged_list = []\n",
    "    i = 0\n",
    "    j = 0\n",
    "\n",
    "    while i < len(list1) and j < len(list2):\n",
    "        if list1[i] == list2[j]:\n",
    "            merged_list.append(list1[i])\n",
    "            i += 1\n",
    "            j += 1\n",
    "        elif list1[i] < list2[j]:\n",
    "            if i % skip_factor == 0:\n",
    "                while i < len(list1) and list1[i] < list2[j]:\n",
    "                    i += 1\n",
    "            else:\n",
    "                i += 1\n",
    "        else:\n",
    "            if j % skip_factor == 0:\n",
    "                while j < len(list2) and list2[j] < list1[i]:\n",
    "                    j += 1\n",
    "            else:\n",
    "                j += 1\n",
    "\n",
    "    return merged_list\n",
    "\n",
    "# Example usage:\n",
    "list1 = [1, 3, 5, 7, 9]\n",
    "list2 = [3, 5, 6, 8, 9]\n",
    "skip_factor = 2  # Adjust the skip factor as needed\n",
    "merged = merge_with_skip_pointers(list1, list2, skip_factor)\n",
    "print(merged)  # Output: [3, 5, 9]\n"
   ]
  }
 ],
 "metadata": {
  "kernelspec": {
   "display_name": "Python 3 (ipykernel)",
   "language": "python",
   "name": "python3"
  },
  "language_info": {
   "codemirror_mode": {
    "name": "ipython",
    "version": 3
   },
   "file_extension": ".py",
   "mimetype": "text/x-python",
   "name": "python",
   "nbconvert_exporter": "python",
   "pygments_lexer": "ipython3",
   "version": "3.11.4"
  }
 },
 "nbformat": 4,
 "nbformat_minor": 5
}
