{
 "cells": [
  {
   "cell_type": "code",
   "execution_count": 2,
   "id": "0fa92c03",
   "metadata": {},
   "outputs": [
    {
     "name": "stdout",
     "output_type": "stream",
     "text": [
      "Enter the word : Thim\n",
      "T500\n"
     ]
    }
   ],
   "source": [
    "name = input(\"Enter the word : \")\n",
    "name = name.upper()\n",
    "soundex = ''\n",
    "# Keep the first letter of the word.\n",
    "soundex += name[0]\n",
    "\n",
    "# Drop all vowels and the consonants H, W, and Y.\n",
    "# Replace the remaining consonants with numbers as follows:\n",
    "\n",
    "dictionary = {\"AEIOUHWY\" : \"0\" , \"BFPV\":\"1\" , \"CGJKQSXZ\":\"2\" , \"DT\":\"3\" , \"L\":\"4\" , \"MN\":\"5\",\"R\":\"6\"}\n",
    "\n",
    "for char in name[1:]:\n",
    "    for key in dictionary.keys():\n",
    "        if char in key:\n",
    "            code = dictionary[key]\n",
    "#          If two or more consecutive letters are assigned the same number, keep only the first one.   \n",
    "            if code != soundex[-1]:\n",
    "                soundex += code\n",
    "#             If the resulting code is less than four characters long, pad it with zeros to the right.\n",
    "                \n",
    "                soundex = soundex.replace(\"0\" , \"\")\n",
    "                soundex = soundex.ljust(4 , \"0\")\n",
    "\n",
    "print(soundex)"
   ]
  },
  {
   "cell_type": "code",
   "execution_count": 1,
   "id": "7be82903",
   "metadata": {},
   "outputs": [
    {
     "data": {
      "text/plain": [
       "'a'"
      ]
     },
     "execution_count": 1,
     "metadata": {},
     "output_type": "execute_result"
    }
   ],
   "source": [
    "name ='Thimira'\n",
    "name[-1]"
   ]
  }
 ],
 "metadata": {
  "kernelspec": {
   "display_name": "Python 3 (ipykernel)",
   "language": "python",
   "name": "python3"
  },
  "language_info": {
   "codemirror_mode": {
    "name": "ipython",
    "version": 3
   },
   "file_extension": ".py",
   "mimetype": "text/x-python",
   "name": "python",
   "nbconvert_exporter": "python",
   "pygments_lexer": "ipython3",
   "version": "3.11.4"
  }
 },
 "nbformat": 4,
 "nbformat_minor": 5
}
