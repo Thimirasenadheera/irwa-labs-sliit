{
 "cells": [
  {
   "cell_type": "code",
   "execution_count": 20,
   "id": "fccee947",
   "metadata": {},
   "outputs": [],
   "source": [
    "from nltk.tokenize import word_tokenize\n",
    "from sklearn.feature_extraction.text import TfidfVectorizer\n",
    "from sklearn.metrics.pairwise import cosine_similarity\n",
    "import numpy as np"
   ]
  },
  {
   "cell_type": "code",
   "execution_count": 2,
   "id": "bcacd3eb",
   "metadata": {},
   "outputs": [],
   "source": [
    "# Sample Corpus\n",
    "documents = [\n",
    "    \"Artificial Intelligence (AI) is the simulation of human intelligence processes by machines.\",\n",
    "    \"Machine learning is a subset of AI that focuses on the development of algorithms and statistical models.\",\n",
    "    \"Deep learning is a subfield of machine learning that uses artificial neural networks to model and solve complex tasks.\",\n",
    "    \"Natural Language Processing (NLP) is a branch of AI that deals with the interaction between computers and human languages.\",\n",
    "    \"AI technology is advancing rapidly and is being used in various fields, including healthcare, finance, and autonomous vehicles.\"\n",
    "]\n",
    "\n",
    "# Query about AI technology\n",
    "query = \"How is AI technology being applied in healthcare and finance?\"\n"
   ]
  },
  {
   "cell_type": "code",
   "execution_count": 7,
   "id": "991eae8a",
   "metadata": {},
   "outputs": [
    {
     "name": "stdout",
     "output_type": "stream",
     "text": [
      "['How', 'is', 'AI', 'technology', 'being', 'applied', 'in', 'healthcare', 'and', 'finance', '?']\n"
     ]
    }
   ],
   "source": [
    "# tokenization\n",
    "\n",
    "tokenized_docs = [word_tokenize(d) for d in documents]\n",
    "tokenized_query = word_tokenize(query)\n",
    "\n"
   ]
  },
  {
   "cell_type": "code",
   "execution_count": 13,
   "id": "102448e9",
   "metadata": {},
   "outputs": [
    {
     "name": "stdout",
     "output_type": "stream",
     "text": [
      "  (0, 47)\t0.41303074817158975\n",
      "  (0, 24)\t0.19681136453924075\n",
      "  (0, 20)\t0.41303074817158975\n",
      "  (0, 18)\t0.41303074817158975\n",
      "  (0, 16)\t0.41303074817158975\n",
      "  (0, 6)\t0.41303074817158975\n",
      "  (0, 3)\t0.23269431891677766\n",
      "  (0, 1)\t0.23269431891677766\n"
     ]
    }
   ],
   "source": [
    "# tfidf vectorizer\n",
    "\n",
    "v = TfidfVectorizer()\n",
    "\n",
    "# for corpus\n",
    "\n",
    "tfidf_matrix = v.fit_transform([\" \".join(d) for d in tokenized_docs])\n",
    "tfidf_query = v.transform([\" \".join(tokenized_query)])\n",
    "\n"
   ]
  },
  {
   "cell_type": "code",
   "execution_count": 19,
   "id": "43300482",
   "metadata": {},
   "outputs": [
    {
     "name": "stdout",
     "output_type": "stream",
     "text": [
      "[0.06903087898456996, 0.10575396603388984, 0.057649802224362647, 0.09607860571329427, 0.6721893629091699]\n"
     ]
    }
   ],
   "source": [
    "# cos similarity\n",
    "\n",
    "cos_simi = cosine_similarity(tfidf_query , tfidf_matrix)\n",
    "cosine_sim = [y for x in cos_simi for y in x]\n",
    "print(cosine_sim)"
   ]
  },
  {
   "cell_type": "code",
   "execution_count": 22,
   "id": "8ba373ef",
   "metadata": {},
   "outputs": [
    {
     "name": "stdout",
     "output_type": "stream",
     "text": [
      "[4 1 3 0 2]\n"
     ]
    }
   ],
   "source": [
    "# sort similarities\n",
    "\n",
    "sort = np.argsort(cosine_sim)[::-1]\n",
    "print(sort)"
   ]
  },
  {
   "cell_type": "code",
   "execution_count": 27,
   "id": "6c3b29d7",
   "metadata": {},
   "outputs": [
    {
     "name": "stdout",
     "output_type": "stream",
     "text": [
      "{'How': [4, 3, 2], 'is': [0, 1, 3], 'AI': [1, 4, 3], 'technology': [4, 1, 3], 'being': [0, 2, 4], 'applied': [4, 3, 2], 'in': [4, 3, 2], 'healthcare': [3, 4, 2], 'and': [3, 4, 2], 'finance': [0, 4, 3], '?': [2, 4, 3]}\n"
     ]
    }
   ],
   "source": [
    "champion_lists = {}\n",
    "for i , term in enumerate(tokenized_query):\n",
    "    term_documents = tfidf_matrix[:,i].toarray().flatten()\n",
    "    champion_list = list(np.argsort(term_documents)[::-1][:3])\n",
    "    champion_lists[term] = champion_list\n",
    "    \n",
    "    \n",
    "print(champion_lists)"
   ]
  }
 ],
 "metadata": {
  "kernelspec": {
   "display_name": "Python 3 (ipykernel)",
   "language": "python",
   "name": "python3"
  },
  "language_info": {
   "codemirror_mode": {
    "name": "ipython",
    "version": 3
   },
   "file_extension": ".py",
   "mimetype": "text/x-python",
   "name": "python",
   "nbconvert_exporter": "python",
   "pygments_lexer": "ipython3",
   "version": "3.11.4"
  }
 },
 "nbformat": 4,
 "nbformat_minor": 5
}
