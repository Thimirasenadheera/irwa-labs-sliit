{
 "cells": [
  {
   "cell_type": "markdown",
   "id": "b8c31ab9",
   "metadata": {},
   "source": [
    "### Create a program for Index Elimination - Only consider high-idf query terms."
   ]
  },
  {
   "cell_type": "code",
   "execution_count": 1,
   "id": "8615add4",
   "metadata": {},
   "outputs": [],
   "source": [
    "import numpy as np\n",
    "from nltk.tokenize import word_tokenize\n",
    "from sklearn.feature_extraction.text import TfidfVectorizer\n",
    "from sklearn.metrics.pairwise import cosine_similarity\n"
   ]
  },
  {
   "cell_type": "code",
   "execution_count": 2,
   "id": "52ad3697",
   "metadata": {},
   "outputs": [],
   "source": [
    "# document scope\n",
    "\n",
    "documents =[\n",
    "    \"This is document 1. It contains some text for testing.\",\n",
    "    \"Document 2 has different content for testing purposes.\",\n",
    "    \"The third document is here with unique words.\"\n",
    "]\n",
    "\n",
    "# querry\n",
    "\n",
    "query = \"This is a test query for information retrieval\""
   ]
  },
  {
   "cell_type": "code",
   "execution_count": 7,
   "id": "3d011fb9",
   "metadata": {},
   "outputs": [
    {
     "name": "stdout",
     "output_type": "stream",
     "text": [
      "[['This', 'is', 'document', '1', '.', 'It', 'contains', 'some', 'text', 'for', 'testing', '.'], ['Document', '2', 'has', 'different', 'content', 'for', 'testing', 'purposes', '.'], ['The', 'third', 'document', 'is', 'here', 'with', 'unique', 'words', '.']]\n",
      "['This', 'is', 'a', 'test', 'query', 'for', 'information', 'retrieval']\n"
     ]
    }
   ],
   "source": [
    "document_tokenized = [word_tokenize(i)for i in documents ]\n",
    "print(document_tokenized)\n",
    "\n",
    "query_tokenized = word_tokenize(query)\n",
    "print(query_tokenized)"
   ]
  },
  {
   "cell_type": "code",
   "execution_count": 10,
   "id": "7c4dd6bf",
   "metadata": {},
   "outputs": [],
   "source": [
    "v = TfidfVectorizer()\n",
    "doc_matrix = v.fit_transform([' '.join(d) for d in document_tokenized])\n"
   ]
  },
  {
   "cell_type": "code",
   "execution_count": 15,
   "id": "52c50e67",
   "metadata": {},
   "outputs": [
    {
     "name": "stdout",
     "output_type": "stream",
     "text": [
      "  (0, 15)\t0.680918560398684\n",
      "  (0, 7)\t0.5178561161676974\n",
      "  (0, 4)\t0.5178561161676974\n"
     ]
    }
   ],
   "source": [
    "query_matrix = v.transform([' '.join(query_tokenized)])\n",
    "print(query_matrix)"
   ]
  },
  {
   "cell_type": "code",
   "execution_count": 21,
   "id": "8e81d4ae",
   "metadata": {},
   "outputs": [
    {
     "name": "stdout",
     "output_type": "stream",
     "text": [
      "[0.55177848 0.16784936 0.1496385 ]\n"
     ]
    }
   ],
   "source": [
    "cos_simi = np.dot(query_matrix , doc_matrix.T).toarray()[0]\n",
    "print(cos_simi)"
   ]
  },
  {
   "cell_type": "code",
   "execution_count": 24,
   "id": "678857c3",
   "metadata": {},
   "outputs": [
    {
     "data": {
      "text/plain": [
       "array([0, 1, 2], dtype=int64)"
      ]
     },
     "execution_count": 24,
     "metadata": {},
     "output_type": "execute_result"
    }
   ],
   "source": [
    "sort = np.argsort(cos_simi)[::-1]\n",
    "sort"
   ]
  },
  {
   "cell_type": "code",
   "execution_count": 27,
   "id": "60d82082",
   "metadata": {},
   "outputs": [
    {
     "name": "stdout",
     "output_type": "stream",
     "text": [
      "['for', 'is', 'this']\n"
     ]
    }
   ],
   "source": [
    "tfidf_threshold = 0.2\n",
    "selected_query_terms =[term for term,tfidf in zip(v.get_feature_names_out(),query_matrix.toarray()[0]) if tfidf>= tfidf_threshold]\n",
    "print(selected_query_terms)"
   ]
  },
  {
   "cell_type": "markdown",
   "id": "d3e58066",
   "metadata": {},
   "source": [
    "### Create a program for Index Elimination - Only consider docs containing many query terms (Jaccard Coefficient)."
   ]
  },
  {
   "cell_type": "code",
   "execution_count": 29,
   "id": "2fc2714f",
   "metadata": {},
   "outputs": [],
   "source": [
    "# document scope\n",
    "\n",
    "documents =[\n",
    "    \"This is document 1. It contains some text for testing.\",\n",
    "    \"Document 2 has different content for testing purposes.\",\n",
    "    \"The third document is here with unique words.\"\n",
    "]\n",
    "\n",
    "# querry\n",
    "\n",
    "query = \"This is a test query for information retrieval\""
   ]
  },
  {
   "cell_type": "code",
   "execution_count": 45,
   "id": "edd829d9",
   "metadata": {},
   "outputs": [],
   "source": [
    "doc_tokenized = [set(word_tokenize(d)) for d in documents]\n",
    "que_tokenized = set(word_tokenize(query))\n",
    "\n"
   ]
  },
  {
   "cell_type": "code",
   "execution_count": 48,
   "id": "2efc426a",
   "metadata": {},
   "outputs": [
    {
     "data": {
      "text/plain": [
       "[0.1875, 0.0625, 0.0625]"
      ]
     },
     "execution_count": 48,
     "metadata": {},
     "output_type": "execute_result"
    }
   ],
   "source": [
    "jaccard_simi = [len(que_tokenized.intersection(d)) / len(que_tokenized.union(d)) for d in doc_tokenized]\n",
    "jaccard_simi"
   ]
  },
  {
   "cell_type": "code",
   "execution_count": 51,
   "id": "76fb37e0",
   "metadata": {},
   "outputs": [
    {
     "data": {
      "text/plain": [
       "array([0, 2, 1], dtype=int64)"
      ]
     },
     "execution_count": 51,
     "metadata": {},
     "output_type": "execute_result"
    }
   ],
   "source": [
    "sort_j = np.argsort(jaccard_simi)[::-1]\n",
    "sort_j"
   ]
  },
  {
   "cell_type": "code",
   "execution_count": 57,
   "id": "e24785eb",
   "metadata": {},
   "outputs": [
    {
     "data": {
      "text/plain": [
       "['This is document 1. It contains some text for testing.']"
      ]
     },
     "execution_count": 57,
     "metadata": {},
     "output_type": "execute_result"
    }
   ],
   "source": [
    "jaccard_threshold = 0.1\n",
    "selected_doc = [d for d , s in zip(documents ,jaccard_simi) if s > jaccard_threshold]\n",
    "selected_doc"
   ]
  },
  {
   "cell_type": "markdown",
   "id": "ad9ae7b6",
   "metadata": {},
   "source": [
    "### Champion List"
   ]
  },
  {
   "cell_type": "code",
   "execution_count": null,
   "id": "df73949b",
   "metadata": {},
   "outputs": [],
   "source": [
    "# document scope\n",
    "\n",
    "documents =[\n",
    "    \"This is document 1. It contains some text for testing.\",\n",
    "    \"Document 2 has different content for testing purposes.\",\n",
    "    \"The third document is here with unique words.\"\n",
    "]\n",
    "\n",
    "# querry\n",
    "\n",
    "query = \"This is a test query for information retrieval\""
   ]
  },
  {
   "cell_type": "code",
   "execution_count": null,
   "id": "314c595a",
   "metadata": {},
   "outputs": [],
   "source": [
    "doc_tokenized = [set(word_tokenize(d)) for d in documents]\n",
    "que_tokenized = set(word_tokenize(query))\n"
   ]
  },
  {
   "cell_type": "code",
   "execution_count": 62,
   "id": "acaf397a",
   "metadata": {},
   "outputs": [
    {
     "name": "stdout",
     "output_type": "stream",
     "text": [
      "  (0, 7)\t0.28574186296253085\n",
      "  (0, 4)\t0.28574186296253085\n",
      "  (0, 3)\t0.221904046872743\n",
      "  (0, 10)\t0.3757162113174268\n",
      "  (0, 12)\t0.3757162113174268\n",
      "  (0, 8)\t0.3757162113174268\n",
      "  (0, 0)\t0.3757162113174268\n",
      "  (0, 15)\t0.3757162113174268\n",
      "  (0, 11)\t0.28574186296253085\n",
      "  (1, 1)\t0.42618350336974425\n",
      "  (1, 5)\t0.42618350336974425\n",
      "  (1, 2)\t0.42618350336974425\n",
      "  (1, 9)\t0.42618350336974425\n",
      "  (1, 4)\t0.3241235393856436\n",
      "  (1, 3)\t0.2517108425440014\n",
      "  (1, 11)\t0.3241235393856436\n",
      "  (2, 16)\t0.3799446164315741\n",
      "  (2, 18)\t0.3799446164315741\n",
      "  (2, 17)\t0.3799446164315741\n",
      "  (2, 13)\t0.3799446164315741\n",
      "  (2, 6)\t0.3799446164315741\n",
      "  (2, 14)\t0.3799446164315741\n",
      "  (2, 7)\t0.28895767404089806\n",
      "  (2, 3)\t0.22440141104916914\n"
     ]
    }
   ],
   "source": [
    "v = TfidfVectorizer()\n",
    "d_matrix = v.fit_transform([' '.join(d) for d in doc_tokenized ])\n",
    "print(d_matrix)"
   ]
  },
  {
   "cell_type": "code",
   "execution_count": 67,
   "id": "7b9549b0",
   "metadata": {},
   "outputs": [
    {
     "name": "stdout",
     "output_type": "stream",
     "text": [
      "  (0, 15)\t0.680918560398684\n",
      "  (0, 7)\t0.5178561161676974\n",
      "  (0, 4)\t0.5178561161676974\n"
     ]
    }
   ],
   "source": [
    "q_matrix = v.transform([\" \".join(que_tokenized)])\n",
    "print(q_matrix)"
   ]
  },
  {
   "cell_type": "code",
   "execution_count": 71,
   "id": "eff59dfd",
   "metadata": {},
   "outputs": [
    {
     "data": {
      "text/plain": [
       "[0.5517784844893074, 0.16784935726477715, 0.149638498815671]"
      ]
     },
     "execution_count": 71,
     "metadata": {},
     "output_type": "execute_result"
    }
   ],
   "source": [
    "cs = list(cosine_similarity(q_matrix , d_matrix)[0])\n",
    "cs"
   ]
  },
  {
   "cell_type": "code",
   "execution_count": 76,
   "id": "190a3b68",
   "metadata": {},
   "outputs": [
    {
     "name": "stdout",
     "output_type": "stream",
     "text": [
      "{'This': [0, 2, 1], 'query': [1, 2, 0], 'information': [1, 2, 0], 'a': [1, 2, 0], 'test': [1, 0, 2], 'retrieval': [1, 2, 0], 'for': [2, 1, 0], 'is': [2, 0, 1]}\n"
     ]
    }
   ],
   "source": [
    "champion_list = {}\n",
    "\n",
    "for i , term in enumerate(que_tokenized):\n",
    "    term_doc = doc_matrix[:,i].toarray().flatten()\n",
    "    cl = list(np.argsort(term_doc)[::-1][:3])\n",
    "    champion_list[term] = cl\n",
    "print(champion_list)                                   "
   ]
  },
  {
   "cell_type": "code",
   "execution_count": 80,
   "id": "08b57743",
   "metadata": {},
   "outputs": [
    {
     "name": "stdout",
     "output_type": "stream",
     "text": [
      "{0, 1, 2}\n"
     ]
    }
   ],
   "source": [
    "selected_docs = set()\n",
    "for term in que_tokenized:\n",
    "    selected_docs.update(champion_list.get(term,[]))\n",
    "    \n",
    "print(selected_docs)"
   ]
  },
  {
   "cell_type": "code",
   "execution_count": null,
   "id": "0f454de7",
   "metadata": {},
   "outputs": [],
   "source": []
  }
 ],
 "metadata": {
  "kernelspec": {
   "display_name": "Python 3 (ipykernel)",
   "language": "python",
   "name": "python3"
  },
  "language_info": {
   "codemirror_mode": {
    "name": "ipython",
    "version": 3
   },
   "file_extension": ".py",
   "mimetype": "text/x-python",
   "name": "python",
   "nbconvert_exporter": "python",
   "pygments_lexer": "ipython3",
   "version": "3.11.4"
  }
 },
 "nbformat": 4,
 "nbformat_minor": 5
}
