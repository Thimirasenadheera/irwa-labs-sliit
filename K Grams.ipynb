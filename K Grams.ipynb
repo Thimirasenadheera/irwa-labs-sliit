{
 "cells": [
  {
   "cell_type": "code",
   "execution_count": 7,
   "id": "dcaa6720",
   "metadata": {},
   "outputs": [
    {
     "data": {
      "text/plain": [
       "['D1.txt', 'D2.txt', 'D3.txt', 'D4.txt']"
      ]
     },
     "execution_count": 7,
     "metadata": {},
     "output_type": "execute_result"
    }
   ],
   "source": [
    "import os\n",
    "directory = os.getcwd() + '/ngram'\n",
    "fileList = os.listdir(directory)\n",
    "fileList"
   ]
  },
  {
   "cell_type": "code",
   "execution_count": 16,
   "id": "f6a03cb6",
   "metadata": {},
   "outputs": [
    {
     "name": "stdout",
     "output_type": "stream",
     "text": [
      "['I  ', '  a', 'a m', 'm  ', '  S', 'S a', 'a m']\n",
      "['S a', 'a m', 'm  ', '  I', 'I  ', '  a', 'a m']\n",
      "['I  ', '  d', 'd o', 'o  ', '  n', 'n o', 'o t', 't  ', '  l', 'l i', 'i k', 'k e', 'e  ', '  g', 'g r', 'r e', 'e e', 'e n', 'n  ', '  e', 'e g', 'g g', 'g s', 's  ', '  a', 'a n', 'n d', 'd  ', '  h', 'h a', 'a m']\n",
      "['I  ', '  d', 'd o', 'o  ', '  n', 'n o', 'o t', 't  ', '  l', 'l i', 'i k', 'k e', 'e  ', '  t', 't h', 'h e', 'e m', 'm ,', ',  ', '  S', 'S a', 'a m', 'm  ', '  I', 'I  ', '  a', 'a m']\n"
     ]
    }
   ],
   "source": [
    "import nltk\n",
    "from nltk.tokenize import word_tokenize\n",
    "from nltk.util import ngrams\n",
    "\n",
    "\n",
    "for file in fileList:\n",
    "    with open(os.getcwd() + '/ngram/' + file , 'r' ) as f:\n",
    "        sentences = f.read()\n",
    "        characters = [char for char in sentences]\n",
    "        \n",
    "        ngram = ngrams(characters , 2)\n",
    "        ngrammed = [' '.join(i) for i in ngram]\n",
    "        print(ngrammed)\n",
    "        "
   ]
  },
  {
   "cell_type": "code",
   "execution_count": 23,
   "id": "60bac0ad",
   "metadata": {},
   "outputs": [
    {
     "data": {
      "text/plain": [
       "'Sam I am'"
      ]
     },
     "execution_count": 23,
     "metadata": {},
     "output_type": "execute_result"
    }
   ],
   "source": [
    "# doc1\n",
    "\n",
    "doc1 = open(os.getcwd() + '/ngram/' + 'D1.txt' , 'r')\n",
    "sentence1 = doc1.read()\n",
    "sentence1\n",
    "\n",
    "# doc2\n",
    "\n",
    "doc2 = open(os.getcwd() + '/ngram/' + 'D2.txt' , 'r')\n",
    "sentence2 = doc2.read()\n",
    "sentence2\n",
    "\n",
    "# doc3\n",
    "\n",
    "doc3 = open(os.getcwd() + '/ngram/' + 'D2.txt' , 'r')\n",
    "sentence2 = doc2.read()\n",
    "sentence2"
   ]
  }
 ],
 "metadata": {
  "kernelspec": {
   "display_name": "Python 3 (ipykernel)",
   "language": "python",
   "name": "python3"
  },
  "language_info": {
   "codemirror_mode": {
    "name": "ipython",
    "version": 3
   },
   "file_extension": ".py",
   "mimetype": "text/x-python",
   "name": "python",
   "nbconvert_exporter": "python",
   "pygments_lexer": "ipython3",
   "version": "3.11.4"
  }
 },
 "nbformat": 4,
 "nbformat_minor": 5
}
