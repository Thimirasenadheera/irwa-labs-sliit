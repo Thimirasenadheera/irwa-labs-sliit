{
 "cells": [
  {
   "cell_type": "code",
   "execution_count": 1,
   "id": "9edc13c8",
   "metadata": {},
   "outputs": [],
   "source": [
    "documents =[\n",
    "    \"This is document 1. It contains some text for testing.\",\n",
    "    \"Document 2 has different content for testing purposes.\",\n",
    "    \"The third document is here with unique words.\"\n",
    "]\n",
    "\n",
    "query = \"This is a test query for information retrieval\""
   ]
  },
  {
   "cell_type": "code",
   "execution_count": 2,
   "id": "fc08482b",
   "metadata": {},
   "outputs": [],
   "source": [
    "import numpy as np\n",
    "from nltk.tokenize import word_tokenize\n",
    "from sklearn.metrics.pairwise import cosine_similarity\n",
    "from sklearn.feature_extraction.text import TfidfVectorizer"
   ]
  },
  {
   "cell_type": "code",
   "execution_count": 9,
   "id": "a386cf52",
   "metadata": {},
   "outputs": [],
   "source": [
    "query_tokenized = word_tokenize(query.lower())\n",
    "\n",
    "doc_tokenized = [word_tokenize(doc.lower())for doc in documents]\n"
   ]
  },
  {
   "cell_type": "code",
   "execution_count": 45,
   "id": "07904bd8",
   "metadata": {},
   "outputs": [
    {
     "name": "stdout",
     "output_type": "stream",
     "text": [
      "  (0, 11)\t0.28574186296253085\n",
      "  (0, 4)\t0.28574186296253085\n",
      "  (0, 12)\t0.3757162113174268\n",
      "  (0, 10)\t0.3757162113174268\n",
      "  (0, 0)\t0.3757162113174268\n",
      "  (0, 8)\t0.3757162113174268\n",
      "  (0, 3)\t0.221904046872743\n",
      "  (0, 7)\t0.28574186296253085\n",
      "  (0, 15)\t0.3757162113174268\n",
      "  (1, 9)\t0.42618350336974425\n",
      "  (1, 1)\t0.42618350336974425\n",
      "  (1, 2)\t0.42618350336974425\n",
      "  (1, 5)\t0.42618350336974425\n",
      "  (1, 11)\t0.3241235393856436\n",
      "  (1, 4)\t0.3241235393856436\n",
      "  (1, 3)\t0.2517108425440014\n",
      "  (2, 18)\t0.3799446164315741\n",
      "  (2, 16)\t0.3799446164315741\n",
      "  (2, 17)\t0.3799446164315741\n",
      "  (2, 6)\t0.3799446164315741\n",
      "  (2, 14)\t0.3799446164315741\n",
      "  (2, 13)\t0.3799446164315741\n",
      "  (2, 3)\t0.22440141104916914\n",
      "  (2, 7)\t0.28895767404089806\n"
     ]
    }
   ],
   "source": [
    "tfidf_vectorizer = TfidfVectorizer()\n",
    "tfidf_metrix = tfidf_vectorizer.fit_transform([\" \".join(d) for d in doc_tokenized])\n",
    "tfidf_query = tfidf_vectorizer.transform([\" \".join(query_tokenized)])\n",
    "\n",
    "\n",
    "print(tfidf_metrix)"
   ]
  },
  {
   "cell_type": "code",
   "execution_count": 37,
   "id": "894e2f9e",
   "metadata": {},
   "outputs": [
    {
     "name": "stdout",
     "output_type": "stream",
     "text": [
      "[0.5517784844893074, 0.16784935726477715, 0.149638498815671]\n"
     ]
    }
   ],
   "source": [
    "cos_simi = cosine_similarity(tfidf_metrix , tfidf_query)\n",
    "\n",
    "\n",
    "cosine_Similarity = [y for x in cos_simi for y in x]\n",
    "print(cosine_Similarity)\n",
    "\n"
   ]
  },
  {
   "cell_type": "code",
   "execution_count": 36,
   "id": "6e04a085",
   "metadata": {},
   "outputs": [
    {
     "name": "stdout",
     "output_type": "stream",
     "text": [
      "[0 1 2]\n"
     ]
    }
   ],
   "source": [
    "sort = np.argsort(cosine_Similarity)[::-1]\n",
    "print(sort)"
   ]
  },
  {
   "cell_type": "markdown",
   "id": "a4849387",
   "metadata": {},
   "source": [
    "##### champion list"
   ]
  },
  {
   "cell_type": "code",
   "execution_count": 50,
   "id": "08cf3693",
   "metadata": {},
   "outputs": [],
   "source": [
    "champion_lists = {}\n",
    "\n",
    "for i , term in enumerate(query_tokenized):\n",
    "    term_documents = tfidf_metrix[:,i].toarray().flatten()\n",
    "    champion_list = list(np.argsort(term_documents)[::-1][:3])\n",
    "    champion_lists[term] = champion_list"
   ]
  },
  {
   "cell_type": "code",
   "execution_count": 51,
   "id": "4eccebbb",
   "metadata": {},
   "outputs": [
    {
     "name": "stdout",
     "output_type": "stream",
     "text": [
      "{'this': [0, 2, 1], 'is': [1, 2, 0], 'a': [1, 2, 0], 'test': [1, 2, 0], 'query': [1, 0, 2], 'for': [1, 2, 0], 'information': [2, 1, 0], 'retrieval': [2, 0, 1]}\n"
     ]
    }
   ],
   "source": [
    "print(champion_lists)"
   ]
  },
  {
   "cell_type": "code",
   "execution_count": 66,
   "id": "fab41a2d",
   "metadata": {},
   "outputs": [
    {
     "data": {
      "text/plain": [
       "{0, 1, 2}"
      ]
     },
     "execution_count": 66,
     "metadata": {},
     "output_type": "execute_result"
    }
   ],
   "source": [
    "selected_columns = set()\n",
    "for term in query_tokenized:\n",
    "    selected_columns.update(champion_lists.get(term,[]))\n",
    "    \n",
    "selected_columns"
   ]
  },
  {
   "cell_type": "code",
   "execution_count": 68,
   "id": "9b8db81f",
   "metadata": {},
   "outputs": [
    {
     "name": "stdout",
     "output_type": "stream",
     "text": [
      "{0, 1, 2}\n",
      "[2, 1, 0]\n"
     ]
    }
   ],
   "source": [
    "selected_documents = list(selected_columns)\n",
    "print(selected_columns)\n",
    "\n",
    "# Sort by cosine similarity\n",
    "selected_documents = list(selected_columns)\n",
    "selected_documents.sort(key = lambda idx:cosine_Similarity[idx])\n",
    "print(selected_documents)"
   ]
  }
 ],
 "metadata": {
  "kernelspec": {
   "display_name": "Python 3 (ipykernel)",
   "language": "python",
   "name": "python3"
  },
  "language_info": {
   "codemirror_mode": {
    "name": "ipython",
    "version": 3
   },
   "file_extension": ".py",
   "mimetype": "text/x-python",
   "name": "python",
   "nbconvert_exporter": "python",
   "pygments_lexer": "ipython3",
   "version": "3.11.4"
  }
 },
 "nbformat": 4,
 "nbformat_minor": 5
}
