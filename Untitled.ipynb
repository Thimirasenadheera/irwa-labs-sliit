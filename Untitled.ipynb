{
 "cells": [
  {
   "cell_type": "code",
   "execution_count": 1,
   "id": "42c9cf3a",
   "metadata": {},
   "outputs": [],
   "source": [
    "# document scope\n",
    "\n",
    "documents =[\n",
    "    \"This is document 1. It contains some text for testing.\",\n",
    "    \"Document 2 has different content for testing purposes.\",\n",
    "    \"The third document is here with unique words.\"\n",
    "]\n",
    "\n",
    "# querry\n",
    "\n",
    "query = \"This is a test query for information retrieval\""
   ]
  },
  {
   "cell_type": "code",
   "execution_count": 15,
   "id": "31977b53",
   "metadata": {},
   "outputs": [],
   "source": [
    "from sklearn.feature_extraction.text import TfidfVectorizer\n",
    "v = TfidfVectorizer()\n",
    "\n"
   ]
  }
 ],
 "metadata": {
  "kernelspec": {
   "display_name": "Python 3 (ipykernel)",
   "language": "python",
   "name": "python3"
  },
  "language_info": {
   "codemirror_mode": {
    "name": "ipython",
    "version": 3
   },
   "file_extension": ".py",
   "mimetype": "text/x-python",
   "name": "python",
   "nbconvert_exporter": "python",
   "pygments_lexer": "ipython3",
   "version": "3.11.4"
  }
 },
 "nbformat": 4,
 "nbformat_minor": 5
}
